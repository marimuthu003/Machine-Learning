{
 "cells": [
  {
   "cell_type": "code",
   "execution_count": 36,
   "id": "fb606b7a",
   "metadata": {},
   "outputs": [],
   "source": [
    "import numpy as np\n",
    "import tensorflow as tf"
   ]
  },
  {
   "cell_type": "code",
   "execution_count": 37,
   "id": "f7ce67c1",
   "metadata": {},
   "outputs": [],
   "source": [
    "def sigmoid(z):\n",
    "    g=1/(1+np.exp(-z))\n",
    "    return g"
   ]
  },
  {
   "cell_type": "code",
   "execution_count": 38,
   "id": "aea3282e",
   "metadata": {},
   "outputs": [],
   "source": [
    "\n",
    "def dense(x,w,b):\n",
    "    units=w.shape[1]\n",
    "    a_out=np.zeros(units)\n",
    "    for j in range(units):\n",
    "        W=w[:,j]\n",
    "        z=np.dot(W,x)+b[j]\n",
    "        a_out[j]=sigmoid(z)\n",
    "    return(a_out)"
   ]
  },
  {
   "cell_type": "code",
   "execution_count": 39,
   "id": "668a1203",
   "metadata": {},
   "outputs": [],
   "source": [
    "def my_sequential(x, W1, b1, W2, b2):\n",
    "    a1 = dense(x,  W1, b1)\n",
    "    a2 = dense(a1, W2, b2)\n",
    "    return(a2)"
   ]
  },
  {
   "cell_type": "code",
   "execution_count": 40,
   "id": "663fe1a9",
   "metadata": {},
   "outputs": [],
   "source": [
    "W1 = np.array( [[-8.93,  0.29, 12.9 ], [-0.1,  -7.32, 10.81]] )\n",
    "b1 = np.array( [-9.82, -9.28,  0.96] )\n",
    "W2 = np.array( [[-31.18], [-27.59], [-32.56]] )\n",
    "b2 = np.array( [15.41] )"
   ]
  },
  {
   "cell_type": "code",
   "execution_count": 41,
   "id": "fc63a21c",
   "metadata": {},
   "outputs": [],
   "source": [
    "def my_predict(X, W1, b1, W2, b2):\n",
    "    m = X.shape[0]\n",
    "    p = np.zeros((m,1))\n",
    "    for i in range(m):\n",
    "        p[i,0] = my_sequential(X[i], W1, b1, W2, b2)\n",
    "    return(p)"
   ]
  },
  {
   "cell_type": "code",
   "execution_count": 42,
   "id": "16f11936",
   "metadata": {},
   "outputs": [
    {
     "name": "stderr",
     "output_type": "stream",
     "text": [
      "C:\\Users\\karth\\AppData\\Local\\Temp\\ipykernel_24120\\1475003753.py:2: RuntimeWarning: overflow encountered in exp\n",
      "  g=1/(1+np.exp(-z))\n"
     ]
    }
   ],
   "source": [
    "X_tst = np.array([\n",
    "    [200,13.9],  # postive example\n",
    "    [200,17]])   # negative example\n",
    "norm_l = tf.keras.layers.Normalization(axis=-1) \n",
    "X_tstn = norm_l(X_tst)  # remember to normalize\n",
    "predictions = my_predict(X_tstn, W1, b1, W2, b2)\n"
   ]
  },
  {
   "cell_type": "code",
   "execution_count": 43,
   "id": "5e3c0a01",
   "metadata": {},
   "outputs": [
    {
     "name": "stdout",
     "output_type": "stream",
     "text": [
      "decisions = \n",
      "[[0.]\n",
      " [0.]]\n"
     ]
    }
   ],
   "source": [
    "yhat = np.zeros_like(predictions)\n",
    "for i in range(len(predictions)):\n",
    "    if predictions[i] >= 0.5:\n",
    "        yhat[i] = 1\n",
    "    else:\n",
    "        yhat[i] = 0\n",
    "print(f\"decisions = \\n{yhat}\")"
   ]
  },
  {
   "cell_type": "code",
   "execution_count": 44,
   "id": "fcb189c3",
   "metadata": {},
   "outputs": [
    {
     "name": "stdout",
     "output_type": "stream",
     "text": [
      "decisions = \n",
      "[[0]\n",
      " [0]]\n"
     ]
    }
   ],
   "source": [
    "yhat = (predictions >= 0.5).astype(int)\n",
    "print(f\"decisions = \\n{yhat}\")"
   ]
  },
  {
   "cell_type": "code",
   "execution_count": null,
   "id": "ab58c128",
   "metadata": {},
   "outputs": [],
   "source": []
  }
 ],
 "metadata": {
  "kernelspec": {
   "display_name": "tfkernel",
   "language": "python",
   "name": "tfkernel"
  },
  "language_info": {
   "codemirror_mode": {
    "name": "ipython",
    "version": 3
   },
   "file_extension": ".py",
   "mimetype": "text/x-python",
   "name": "python",
   "nbconvert_exporter": "python",
   "pygments_lexer": "ipython3",
   "version": "3.8.0"
  }
 },
 "nbformat": 4,
 "nbformat_minor": 5
}
