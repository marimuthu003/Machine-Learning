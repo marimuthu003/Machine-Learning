{
 "cells": [
  {
   "cell_type": "code",
   "execution_count": 5,
   "metadata": {},
   "outputs": [
    {
     "name": "stdout",
     "output_type": "stream",
     "text": [
      "Requirement already satisfied: lab-utils in c:\\users\\karth\\appdata\\local\\programs\\python\\python38\\lib\\site-packages (0.5.12)\n",
      "Requirement already satisfied: psycopg2 in c:\\users\\karth\\appdata\\local\\programs\\python\\python38\\lib\\site-packages (from lab-utils) (2.9.9)\n",
      "Requirement already satisfied: python-json-logger in c:\\users\\karth\\appdata\\local\\programs\\python\\python38\\lib\\site-packages (from lab-utils) (2.0.7)\n",
      "Requirement already satisfied: slacker-log-handler in c:\\users\\karth\\appdata\\local\\programs\\python\\python38\\lib\\site-packages (from lab-utils) (1.8.0)\n",
      "Requirement already satisfied: pandas in c:\\users\\karth\\appdata\\local\\programs\\python\\python38\\lib\\site-packages (from lab-utils) (2.0.3)\n",
      "Requirement already satisfied: zc.lockfile in c:\\users\\karth\\appdata\\local\\programs\\python\\python38\\lib\\site-packages (from lab-utils) (3.0.post1)\n",
      "Requirement already satisfied: slacker<=0.9.65,>=0.7.3 in c:\\users\\karth\\appdata\\local\\programs\\python\\python38\\lib\\site-packages (from slacker-log-handler->lab-utils) (0.9.65)\n",
      "Requirement already satisfied: six>=1.11.0 in c:\\users\\karth\\appdata\\roaming\\python\\python38\\site-packages (from slacker-log-handler->lab-utils) (1.16.0)\n",
      "Requirement already satisfied: pytz>=2020.1 in c:\\users\\karth\\appdata\\local\\programs\\python\\python38\\lib\\site-packages (from pandas->lab-utils) (2024.1)\n",
      "Requirement already satisfied: python-dateutil>=2.8.2 in c:\\users\\karth\\appdata\\roaming\\python\\python38\\site-packages (from pandas->lab-utils) (2.8.2)\n",
      "Requirement already satisfied: numpy>=1.20.3; python_version < \"3.10\" in c:\\users\\karth\\appdata\\local\\programs\\python\\python38\\lib\\site-packages (from pandas->lab-utils) (1.24.4)\n",
      "Requirement already satisfied: tzdata>=2022.1 in c:\\users\\karth\\appdata\\local\\programs\\python\\python38\\lib\\site-packages (from pandas->lab-utils) (2024.1)\n",
      "Requirement already satisfied: setuptools in c:\\users\\karth\\appdata\\local\\programs\\python\\python38\\lib\\site-packages (from zc.lockfile->lab-utils) (41.2.0)\n",
      "Requirement already satisfied: requests>=2.2.1 in c:\\users\\karth\\appdata\\local\\programs\\python\\python38\\lib\\site-packages (from slacker<=0.9.65,>=0.7.3->slacker-log-handler->lab-utils) (2.31.0)\n",
      "Requirement already satisfied: certifi>=2017.4.17 in c:\\users\\karth\\appdata\\local\\programs\\python\\python38\\lib\\site-packages (from requests>=2.2.1->slacker<=0.9.65,>=0.7.3->slacker-log-handler->lab-utils) (2024.2.2)\n",
      "Requirement already satisfied: urllib3<3,>=1.21.1 in c:\\users\\karth\\appdata\\local\\programs\\python\\python38\\lib\\site-packages (from requests>=2.2.1->slacker<=0.9.65,>=0.7.3->slacker-log-handler->lab-utils) (2.2.1)\n",
      "Requirement already satisfied: idna<4,>=2.5 in c:\\users\\karth\\appdata\\local\\programs\\python\\python38\\lib\\site-packages (from requests>=2.2.1->slacker<=0.9.65,>=0.7.3->slacker-log-handler->lab-utils) (3.6)\n",
      "Requirement already satisfied: charset-normalizer<4,>=2 in c:\\users\\karth\\appdata\\local\\programs\\python\\python38\\lib\\site-packages (from requests>=2.2.1->slacker<=0.9.65,>=0.7.3->slacker-log-handler->lab-utils) (3.3.2)\n"
     ]
    },
    {
     "name": "stderr",
     "output_type": "stream",
     "text": [
      "WARNING: You are using pip version 19.2.3, however version 24.0 is available.\n",
      "You should consider upgrading via the 'python -m pip install --upgrade pip' command.\n"
     ]
    }
   ],
   "source": [
    "! pip install lab-utils"
   ]
  },
  {
   "cell_type": "code",
   "execution_count": 6,
   "metadata": {},
   "outputs": [
    {
     "ename": "ModuleNotFoundError",
     "evalue": "No module named 'utils_lab_uni'",
     "output_type": "error",
     "traceback": [
      "\u001b[1;31m---------------------------------------------------------------------------\u001b[0m",
      "\u001b[1;31mModuleNotFoundError\u001b[0m                       Traceback (most recent call last)",
      "Cell \u001b[1;32mIn[6], line 3\u001b[0m\n\u001b[0;32m      1\u001b[0m \u001b[38;5;28;01mimport\u001b[39;00m \u001b[38;5;21;01mnumpy\u001b[39;00m \u001b[38;5;28;01mas\u001b[39;00m \u001b[38;5;21;01mnp\u001b[39;00m\n\u001b[0;32m      2\u001b[0m \u001b[38;5;28;01mimport\u001b[39;00m \u001b[38;5;21;01mmatplotlib\u001b[39;00m\u001b[38;5;21;01m.\u001b[39;00m\u001b[38;5;21;01mpyplot\u001b[39;00m \u001b[38;5;28;01mas\u001b[39;00m \u001b[38;5;21;01mplt\u001b[39;00m\n\u001b[1;32m----> 3\u001b[0m \u001b[38;5;28;01mfrom\u001b[39;00m \u001b[38;5;21;01mutils_lab_uni\u001b[39;00m \u001b[38;5;28;01mimport\u001b[39;00m plt_intution\n",
      "\u001b[1;31mModuleNotFoundError\u001b[0m: No module named 'utils_lab_uni'"
     ]
    }
   ],
   "source": [
    "import numpy as np\n",
    "import matplotlib.pyplot as plt\n",
    "from utils_lab_uni import plt_intution"
   ]
  },
  {
   "cell_type": "code",
   "execution_count": null,
   "metadata": {},
   "outputs": [],
   "source": []
  }
 ],
 "metadata": {
  "kernelspec": {
   "display_name": "Python 3 (ipykernel)",
   "language": "python",
   "name": "python3"
  },
  "language_info": {
   "codemirror_mode": {
    "name": "ipython",
    "version": 3
   },
   "file_extension": ".py",
   "mimetype": "text/x-python",
   "name": "python",
   "nbconvert_exporter": "python",
   "pygments_lexer": "ipython3",
   "version": "3.12.1"
  }
 },
 "nbformat": 4,
 "nbformat_minor": 4
}
